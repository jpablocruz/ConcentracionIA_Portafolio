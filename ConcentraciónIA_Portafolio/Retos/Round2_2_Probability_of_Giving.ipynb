{
  "cells": [
    {
      "cell_type": "markdown",
      "id": "865ca784",
      "metadata": {
        "id": "865ca784"
      },
      "source": [
        "![Python_logo](https://www.python.org/static/community_logos/python-logo-master-v3-TM.png)\n",
        "\n",
        "\n",
        "  # **Cortex Game: Round2--Probability of Giving**"
      ]
    },
    {
      "cell_type": "markdown",
      "id": "52b54409-4263-4803-9885-f1d69a1f3b09",
      "metadata": {
        "id": "52b54409-4263-4803-9885-f1d69a1f3b09"
      },
      "source": [
        "> Before playing the game, you need to connect to SASPy first.\n",
        ">\n",
        ">> If it is your first time, please follow the 4 steps mentioned below!"
      ]
    },
    {
      "cell_type": "markdown",
      "id": "498431a0-0072-4339-8518-a792a478864a",
      "metadata": {
        "id": "498431a0-0072-4339-8518-a792a478864a"
      },
      "source": [
        "***\n",
        "## **Connect to SASPy**"
      ]
    },
    {
      "cell_type": "markdown",
      "source": [
        "**0- Connect to your Google Drive folder**"
      ],
      "metadata": {
        "id": "wklm3_kO-yEX"
      },
      "id": "wklm3_kO-yEX"
    },
    {
      "cell_type": "code",
      "source": [
        "my_folder = \"/content/drive/MyDrive/retoSas\"\n",
        "\n",
        "from google.colab import drive\n",
        "drive.mount('/content/drive')\n",
        "\n",
        "# Change the following code to set your Drive folder\n",
        "import os\n",
        "os.chdir(my_folder)\n",
        "!pwd"
      ],
      "metadata": {
        "colab": {
          "base_uri": "https://localhost:8080/"
        },
        "id": "nsGtgYqa-xhc",
        "outputId": "979ac2f6-574e-413f-9115-3e430c697af0"
      },
      "id": "nsGtgYqa-xhc",
      "execution_count": null,
      "outputs": [
        {
          "output_type": "stream",
          "name": "stdout",
          "text": [
            "Drive already mounted at /content/drive; to attempt to forcibly remount, call drive.mount(\"/content/drive\", force_remount=True).\n",
            "/content/drive/MyDrive/retoSas\n"
          ]
        }
      ]
    },
    {
      "cell_type": "markdown",
      "id": "20c560d8-417b-46d4-8a08-25ed51675d51",
      "metadata": {
        "id": "20c560d8-417b-46d4-8a08-25ed51675d51"
      },
      "source": [
        "**1- Make sure that your Python version is 3.3 or higher as well as your Java version is 1.8.0_162 or higher**"
      ]
    },
    {
      "cell_type": "code",
      "execution_count": null,
      "id": "391078cc-a49b-4d15-a6f0-f09729e12b03",
      "metadata": {
        "collapsed": true,
        "colab": {
          "base_uri": "https://localhost:8080/"
        },
        "id": "391078cc-a49b-4d15-a6f0-f09729e12b03",
        "outputId": "4a665263-a5b3-452d-8645-d38c1a72a29e"
      },
      "outputs": [
        {
          "output_type": "stream",
          "name": "stdout",
          "text": [
            "Python is at /usr/local/bin/python\n",
            "Python 3.8.15\n"
          ]
        }
      ],
      "source": [
        "!echo \"Python is at\" $(which python)\n",
        "!python --version"
      ]
    },
    {
      "cell_type": "code",
      "source": [
        "!echo \"Java is at\" $(which java)\n",
        "!/usr/bin/java -version"
      ],
      "metadata": {
        "colab": {
          "base_uri": "https://localhost:8080/"
        },
        "id": "HL4iO5Cr-327",
        "outputId": "0e56c4fe-702c-4987-b56a-a9f666f36588"
      },
      "id": "HL4iO5Cr-327",
      "execution_count": null,
      "outputs": [
        {
          "output_type": "stream",
          "name": "stdout",
          "text": [
            "Java is at /usr/bin/java\n",
            "openjdk version \"11.0.17\" 2022-10-18\n",
            "OpenJDK Runtime Environment (build 11.0.17+8-post-Ubuntu-1ubuntu218.04)\n",
            "OpenJDK 64-Bit Server VM (build 11.0.17+8-post-Ubuntu-1ubuntu218.04, mixed mode, sharing)\n"
          ]
        }
      ]
    },
    {
      "cell_type": "markdown",
      "id": "7841f1b0-4f5e-442b-a9f4-e4e9de14febc",
      "metadata": {
        "id": "7841f1b0-4f5e-442b-a9f4-e4e9de14febc"
      },
      "source": [
        "**2- Install SASPy**"
      ]
    },
    {
      "cell_type": "code",
      "execution_count": null,
      "id": "9e7302de-3448-4cd0-be20-e8d061754f23",
      "metadata": {
        "collapsed": true,
        "colab": {
          "base_uri": "https://localhost:8080/"
        },
        "id": "9e7302de-3448-4cd0-be20-e8d061754f23",
        "outputId": "49fcfd99-1b6a-4ef3-f594-57b934962a58"
      },
      "outputs": [
        {
          "output_type": "stream",
          "name": "stdout",
          "text": [
            "Looking in indexes: https://pypi.org/simple, https://us-python.pkg.dev/colab-wheels/public/simple/\n",
            "Collecting saspy\n",
            "  Downloading saspy-4.4.1.tar.gz (9.9 MB)\n",
            "\u001b[K     |████████████████████████████████| 9.9 MB 943 kB/s \n",
            "\u001b[?25hBuilding wheels for collected packages: saspy\n",
            "  Building wheel for saspy (setup.py) ... \u001b[?25l\u001b[?25hdone\n",
            "  Created wheel for saspy: filename=saspy-4.4.1-py3-none-any.whl size=9937304 sha256=e9470ff4e7971783f6159e92d2e0800889e88380521b15a9a694351ea54d724f\n",
            "  Stored in directory: /root/.cache/pip/wheels/0a/f6/ab/f7173c8a824856c66f6fd50194bb8fd3ef93fb4f1824be8d0c\n",
            "Successfully built saspy\n",
            "Installing collected packages: saspy\n",
            "Successfully installed saspy-4.4.1\n"
          ]
        }
      ],
      "source": [
        "pip install saspy"
      ]
    },
    {
      "cell_type": "markdown",
      "source": [
        "**3- Create the configuration file \"sascfg_personal.py\"**\n",
        "Please, check that your Home Region is correct, you can check it at [ODA-SAS](https://welcome.oda.sas.com/home)"
      ],
      "metadata": {
        "id": "JxXWvrH1_DPU"
      },
      "id": "JxXWvrH1_DPU"
    },
    {
      "cell_type": "code",
      "source": [
        "%%writefile sascfg_personal.py\n",
        "SAS_config_names=['oda']\n",
        "oda = {'java' : '/usr/bin/java',\n",
        "#US Home Region 1\n",
        "'iomhost' : ['odaws01-usw2.oda.sas.com','odaws02-usw2.oda.sas.com','odaws03-usw2.oda.sas.com','odaws04-usw2.oda.sas.com'],\n",
        "#US Home Region 2\n",
        "#'iomhost' : ['odaws01-usw2-2.oda.sas.com','odaws02-usw2-2.oda.sas.com'],\n",
        "#European Home Region 1\n",
        "#'iomhost' : ['odaws01-euw1.oda.sas.com','odaws02-euw1.oda.sas.com'],\n",
        "#Asia Pacific Home Region 1\n",
        "#'iomhost' : ['odaws01-apse1.oda.sas.com','odaws02-apse1.oda.sas.com'],\n",
        "#Asia Pacific Home Region 2\n",
        "#'iomhost' : ['odaws01-apse1-2.oda.sas.com','odaws02-apse1-2.oda.sas.com'],\n",
        "'iomport' : 8591,\n",
        "'authkey' : 'oda',\n",
        "'encoding' : 'utf-8'\n",
        "}"
      ],
      "metadata": {
        "colab": {
          "base_uri": "https://localhost:8080/"
        },
        "id": "XAc195ZR_D6R",
        "outputId": "7408577a-e5af-4b54-9e8f-cecd5e3d7c2a"
      },
      "id": "XAc195ZR_D6R",
      "execution_count": null,
      "outputs": [
        {
          "output_type": "stream",
          "name": "stdout",
          "text": [
            "Overwriting sascfg_personal.py\n"
          ]
        }
      ]
    },
    {
      "cell_type": "markdown",
      "source": [
        "**4- Create your .authinfo**"
      ],
      "metadata": {
        "id": "X3cLeAQ8_MyW"
      },
      "id": "X3cLeAQ8_MyW"
    },
    {
      "cell_type": "markdown",
      "source": [
        "If there is no .authinfo file, you can create this"
      ],
      "metadata": {
        "id": "Gp0qqLmX_PIW"
      },
      "id": "Gp0qqLmX_PIW"
    },
    {
      "cell_type": "code",
      "source": [
        "#%%writefile .authinfo\n",
        "#oda user USR password PSW"
      ],
      "metadata": {
        "id": "gmCfRzb__Or-"
      },
      "id": "gmCfRzb__Or-",
      "execution_count": null,
      "outputs": []
    },
    {
      "cell_type": "markdown",
      "source": [
        "Copy this file to home"
      ],
      "metadata": {
        "id": "GC0E0Ja__Xk2"
      },
      "id": "GC0E0Ja__Xk2"
    },
    {
      "cell_type": "code",
      "source": [
        "!cp .authinfo ~/.authinfo"
      ],
      "metadata": {
        "id": "-OWv6NVf_XIq"
      },
      "id": "-OWv6NVf_XIq",
      "execution_count": null,
      "outputs": []
    },
    {
      "cell_type": "markdown",
      "id": "0960ac70-8d02-4ba5-a115-f6233f713214",
      "metadata": {
        "id": "0960ac70-8d02-4ba5-a115-f6233f713214"
      },
      "source": [
        "**5- Establish Connection (Need to do this step each time you use SASPy)**"
      ]
    },
    {
      "cell_type": "code",
      "execution_count": null,
      "id": "7e45b4e0-ab05-4aae-9e7b-56742870da33",
      "metadata": {
        "collapsed": true,
        "colab": {
          "base_uri": "https://localhost:8080/"
        },
        "id": "7e45b4e0-ab05-4aae-9e7b-56742870da33",
        "outputId": "5034ff2a-14ad-4db8-9d24-b7d33309628f"
      },
      "outputs": [
        {
          "output_type": "stream",
          "name": "stdout",
          "text": [
            "Using SAS Config named: oda\n",
            "SAS Connection established. Subprocess id is 367\n",
            "\n"
          ]
        },
        {
          "output_type": "execute_result",
          "data": {
            "text/plain": [
              "Access Method         = IOM\n",
              "SAS Config name       = oda\n",
              "SAS Config file       = /content/drive/MyDrive/retoSas/sascfg_personal.py\n",
              "WORK Path             = /saswork/SAS_workA2B300011064_odaws02-usw2.oda.sas.com/SAS_workA85E00011064_odaws02-usw2.oda.sas.com/\n",
              "SAS Version           = 9.04.01M6P11072018\n",
              "SASPy Version         = 4.4.1\n",
              "Teach me SAS          = False\n",
              "Batch                 = False\n",
              "Results               = Pandas\n",
              "SAS Session Encoding  = utf-8\n",
              "Python Encoding value = utf-8\n",
              "SAS process Pid value = 69732\n"
            ]
          },
          "metadata": {},
          "execution_count": 10
        }
      ],
      "source": [
        "import saspy\n",
        "sas_session = saspy.SASsession(cfgfile=os.path.join(\n",
        "    my_folder,\"sascfg_personal.py\"))\n",
        "sas_session"
      ]
    },
    {
      "cell_type": "markdown",
      "id": "c472cd92-026b-439e-bf51-6130edda29e2",
      "metadata": {
        "id": "c472cd92-026b-439e-bf51-6130edda29e2"
      },
      "source": [
        "***\n",
        "## Connect to Cortex Data Sets"
      ]
    },
    {
      "cell_type": "markdown",
      "id": "819d3592",
      "metadata": {
        "id": "819d3592"
      },
      "source": [
        "Load Cortex datasets from SAS Studio"
      ]
    },
    {
      "cell_type": "code",
      "source": [
        "ps = sas_session.submit(\"\"\"\n",
        "    libname cortex '~/my_shared_file_links/u39842936/Cortex Data Sets';\n",
        "    \"\"\")\n",
        "print(ps[\"LOG\"])"
      ],
      "metadata": {
        "colab": {
          "base_uri": "https://localhost:8080/"
        },
        "id": "42aSHvucBTUG",
        "outputId": "8f588430-2c00-427a-b215-7589dd2cd9c3"
      },
      "id": "42aSHvucBTUG",
      "execution_count": null,
      "outputs": [
        {
          "output_type": "stream",
          "name": "stdout",
          "text": [
            "\n",
            "5                                                          The SAS System                      Friday, December  2, 2022 06:22:00 PM\n",
            "\n",
            "24         ods listing close;ods html5 (id=saspy_internal) file=_tomods1 options(bitmap_mode='inline') device=svg style=HTMLBlue;\n",
            "24       ! ods graphics on / outputfmt=png;\n",
            "25         \n",
            "26         \n",
            "27             libname cortex '~/my_shared_file_links/u39842936/Cortex Data Sets';\n",
            "28         \n",
            "29         \n",
            "30         \n",
            "31         ods html5 (id=saspy_internal) close;ods listing;\n",
            "32         \n",
            "\n",
            "6                                                          The SAS System                      Friday, December  2, 2022 06:22:00 PM\n",
            "\n",
            "33         \n"
          ]
        }
      ]
    },
    {
      "cell_type": "markdown",
      "source": [
        "For local Jupyter"
      ],
      "metadata": {
        "id": "OXdrRaB_BX-_"
      },
      "id": "OXdrRaB_BX-_"
    },
    {
      "cell_type": "code",
      "execution_count": null,
      "id": "d4204cf9",
      "metadata": {
        "collapsed": true,
        "id": "d4204cf9"
      },
      "outputs": [],
      "source": [
        "#%%SAS sas_session\n",
        "#libname cortex '~/my_shared_file_links/u39842936/Cortex Data Sets';"
      ]
    },
    {
      "cell_type": "markdown",
      "id": "bb730ee9",
      "metadata": {
        "id": "bb730ee9"
      },
      "source": [
        "### Transform cloud SAS dataset to Python dataframe (pandas)\n",
        "\n",
        "For reference: \n",
        "\n",
        "1. [Pandas library](https://pandas.pydata.org/docs/user_guide/index.html)\n",
        "\n",
        "\n",
        "2. [sklearn.model_selection for data partition](https://scikit-learn.org/stable/modules/generated/sklearn.model_selection.train_test_split.html)"
      ]
    },
    {
      "cell_type": "code",
      "execution_count": null,
      "id": "f298efcc",
      "metadata": {
        "id": "f298efcc"
      },
      "outputs": [],
      "source": [
        "import pandas as pd\n",
        "\n",
        "data1 = sas_session.sasdata2dataframe(\n",
        "table='hist',\n",
        "libref='cortex'\n",
        ")\n",
        "\n",
        "data2 = sas_session.sasdata2dataframe(\n",
        "table='target_rd2',\n",
        "libref='cortex'\n",
        ")"
      ]
    },
    {
      "cell_type": "markdown",
      "id": "beaff555-bf37-42fe-8e66-69718409b295",
      "metadata": {
        "id": "beaff555-bf37-42fe-8e66-69718409b295"
      },
      "source": [
        "## Merge the Data"
      ]
    },
    {
      "cell_type": "code",
      "execution_count": null,
      "id": "419ef624",
      "metadata": {
        "collapsed": true,
        "colab": {
          "base_uri": "https://localhost:8080/",
          "height": 240
        },
        "id": "419ef624",
        "outputId": "3e481137-21cd-4de4-9892-28db444d1040"
      },
      "outputs": [
        {
          "output_type": "execute_result",
          "data": {
            "text/plain": [
              "               ID LastName FirstName  Woman   Age   Salary  \\\n",
              "122230  2122231.0   RUFFIN   MATTHEW    0.0  21.0  30000.0   \n",
              "467328  2467329.0   MUNSON   MICHAEL    0.0  66.0  67800.0   \n",
              "\n",
              "                   Education      City  SeniorList  NbActivities  ...  \\\n",
              "122230  University / College  Downtown         0.0           0.0  ...   \n",
              "467328  University / College      City         7.0           0.0  ...   \n",
              "\n",
              "        Frequency  Seniority  TotalGift  MinGift  MaxGift  GaveLastYear  \\\n",
              "122230        NaN        NaN        NaN      NaN      NaN           0.0   \n",
              "467328        NaN        NaN        NaN      NaN      NaN           0.0   \n",
              "\n",
              "        AmtLastYear  Contact  GaveThisYear  AmtThisYear  \n",
              "122230          0.0      0.0           0.0          0.0  \n",
              "467328          0.0      0.0           0.0          0.0  \n",
              "\n",
              "[2 rows x 22 columns]"
            ],
            "text/html": [
              "\n",
              "  <div id=\"df-74eb87c4-4677-444c-9284-f2c0bbbb7d70\">\n",
              "    <div class=\"colab-df-container\">\n",
              "      <div>\n",
              "<style scoped>\n",
              "    .dataframe tbody tr th:only-of-type {\n",
              "        vertical-align: middle;\n",
              "    }\n",
              "\n",
              "    .dataframe tbody tr th {\n",
              "        vertical-align: top;\n",
              "    }\n",
              "\n",
              "    .dataframe thead th {\n",
              "        text-align: right;\n",
              "    }\n",
              "</style>\n",
              "<table border=\"1\" class=\"dataframe\">\n",
              "  <thead>\n",
              "    <tr style=\"text-align: right;\">\n",
              "      <th></th>\n",
              "      <th>ID</th>\n",
              "      <th>LastName</th>\n",
              "      <th>FirstName</th>\n",
              "      <th>Woman</th>\n",
              "      <th>Age</th>\n",
              "      <th>Salary</th>\n",
              "      <th>Education</th>\n",
              "      <th>City</th>\n",
              "      <th>SeniorList</th>\n",
              "      <th>NbActivities</th>\n",
              "      <th>...</th>\n",
              "      <th>Frequency</th>\n",
              "      <th>Seniority</th>\n",
              "      <th>TotalGift</th>\n",
              "      <th>MinGift</th>\n",
              "      <th>MaxGift</th>\n",
              "      <th>GaveLastYear</th>\n",
              "      <th>AmtLastYear</th>\n",
              "      <th>Contact</th>\n",
              "      <th>GaveThisYear</th>\n",
              "      <th>AmtThisYear</th>\n",
              "    </tr>\n",
              "  </thead>\n",
              "  <tbody>\n",
              "    <tr>\n",
              "      <th>122230</th>\n",
              "      <td>2122231.0</td>\n",
              "      <td>RUFFIN</td>\n",
              "      <td>MATTHEW</td>\n",
              "      <td>0.0</td>\n",
              "      <td>21.0</td>\n",
              "      <td>30000.0</td>\n",
              "      <td>University / College</td>\n",
              "      <td>Downtown</td>\n",
              "      <td>0.0</td>\n",
              "      <td>0.0</td>\n",
              "      <td>...</td>\n",
              "      <td>NaN</td>\n",
              "      <td>NaN</td>\n",
              "      <td>NaN</td>\n",
              "      <td>NaN</td>\n",
              "      <td>NaN</td>\n",
              "      <td>0.0</td>\n",
              "      <td>0.0</td>\n",
              "      <td>0.0</td>\n",
              "      <td>0.0</td>\n",
              "      <td>0.0</td>\n",
              "    </tr>\n",
              "    <tr>\n",
              "      <th>467328</th>\n",
              "      <td>2467329.0</td>\n",
              "      <td>MUNSON</td>\n",
              "      <td>MICHAEL</td>\n",
              "      <td>0.0</td>\n",
              "      <td>66.0</td>\n",
              "      <td>67800.0</td>\n",
              "      <td>University / College</td>\n",
              "      <td>City</td>\n",
              "      <td>7.0</td>\n",
              "      <td>0.0</td>\n",
              "      <td>...</td>\n",
              "      <td>NaN</td>\n",
              "      <td>NaN</td>\n",
              "      <td>NaN</td>\n",
              "      <td>NaN</td>\n",
              "      <td>NaN</td>\n",
              "      <td>0.0</td>\n",
              "      <td>0.0</td>\n",
              "      <td>0.0</td>\n",
              "      <td>0.0</td>\n",
              "      <td>0.0</td>\n",
              "    </tr>\n",
              "  </tbody>\n",
              "</table>\n",
              "<p>2 rows × 22 columns</p>\n",
              "</div>\n",
              "      <button class=\"colab-df-convert\" onclick=\"convertToInteractive('df-74eb87c4-4677-444c-9284-f2c0bbbb7d70')\"\n",
              "              title=\"Convert this dataframe to an interactive table.\"\n",
              "              style=\"display:none;\">\n",
              "        \n",
              "  <svg xmlns=\"http://www.w3.org/2000/svg\" height=\"24px\"viewBox=\"0 0 24 24\"\n",
              "       width=\"24px\">\n",
              "    <path d=\"M0 0h24v24H0V0z\" fill=\"none\"/>\n",
              "    <path d=\"M18.56 5.44l.94 2.06.94-2.06 2.06-.94-2.06-.94-.94-2.06-.94 2.06-2.06.94zm-11 1L8.5 8.5l.94-2.06 2.06-.94-2.06-.94L8.5 2.5l-.94 2.06-2.06.94zm10 10l.94 2.06.94-2.06 2.06-.94-2.06-.94-.94-2.06-.94 2.06-2.06.94z\"/><path d=\"M17.41 7.96l-1.37-1.37c-.4-.4-.92-.59-1.43-.59-.52 0-1.04.2-1.43.59L10.3 9.45l-7.72 7.72c-.78.78-.78 2.05 0 2.83L4 21.41c.39.39.9.59 1.41.59.51 0 1.02-.2 1.41-.59l7.78-7.78 2.81-2.81c.8-.78.8-2.07 0-2.86zM5.41 20L4 18.59l7.72-7.72 1.47 1.35L5.41 20z\"/>\n",
              "  </svg>\n",
              "      </button>\n",
              "      \n",
              "  <style>\n",
              "    .colab-df-container {\n",
              "      display:flex;\n",
              "      flex-wrap:wrap;\n",
              "      gap: 12px;\n",
              "    }\n",
              "\n",
              "    .colab-df-convert {\n",
              "      background-color: #E8F0FE;\n",
              "      border: none;\n",
              "      border-radius: 50%;\n",
              "      cursor: pointer;\n",
              "      display: none;\n",
              "      fill: #1967D2;\n",
              "      height: 32px;\n",
              "      padding: 0 0 0 0;\n",
              "      width: 32px;\n",
              "    }\n",
              "\n",
              "    .colab-df-convert:hover {\n",
              "      background-color: #E2EBFA;\n",
              "      box-shadow: 0px 1px 2px rgba(60, 64, 67, 0.3), 0px 1px 3px 1px rgba(60, 64, 67, 0.15);\n",
              "      fill: #174EA6;\n",
              "    }\n",
              "\n",
              "    [theme=dark] .colab-df-convert {\n",
              "      background-color: #3B4455;\n",
              "      fill: #D2E3FC;\n",
              "    }\n",
              "\n",
              "    [theme=dark] .colab-df-convert:hover {\n",
              "      background-color: #434B5C;\n",
              "      box-shadow: 0px 1px 3px 1px rgba(0, 0, 0, 0.15);\n",
              "      filter: drop-shadow(0px 1px 2px rgba(0, 0, 0, 0.3));\n",
              "      fill: #FFFFFF;\n",
              "    }\n",
              "  </style>\n",
              "\n",
              "      <script>\n",
              "        const buttonEl =\n",
              "          document.querySelector('#df-74eb87c4-4677-444c-9284-f2c0bbbb7d70 button.colab-df-convert');\n",
              "        buttonEl.style.display =\n",
              "          google.colab.kernel.accessAllowed ? 'block' : 'none';\n",
              "\n",
              "        async function convertToInteractive(key) {\n",
              "          const element = document.querySelector('#df-74eb87c4-4677-444c-9284-f2c0bbbb7d70');\n",
              "          const dataTable =\n",
              "            await google.colab.kernel.invokeFunction('convertToInteractive',\n",
              "                                                     [key], {});\n",
              "          if (!dataTable) return;\n",
              "\n",
              "          const docLinkHtml = 'Like what you see? Visit the ' +\n",
              "            '<a target=\"_blank\" href=https://colab.research.google.com/notebooks/data_table.ipynb>data table notebook</a>'\n",
              "            + ' to learn more about interactive tables.';\n",
              "          element.innerHTML = '';\n",
              "          dataTable['output_type'] = 'display_data';\n",
              "          await google.colab.output.renderOutput(dataTable, element);\n",
              "          const docLink = document.createElement('div');\n",
              "          docLink.innerHTML = docLinkHtml;\n",
              "          element.appendChild(docLink);\n",
              "        }\n",
              "      </script>\n",
              "    </div>\n",
              "  </div>\n",
              "  "
            ]
          },
          "metadata": {},
          "execution_count": 14
        }
      ],
      "source": [
        "data_merge = pd.merge(data1, data2, on=[\"ID\"],how=\"right\")\n",
        "#data_merge.head()\n",
        "data_merge.sample(2)"
      ]
    },
    {
      "cell_type": "markdown",
      "id": "206e4d61-0bb7-4f80-97d7-4c175c013d44",
      "metadata": {
        "id": "206e4d61-0bb7-4f80-97d7-4c175c013d44"
      },
      "source": [
        "## Treating Missing Values\n",
        "\n",
        "Please be aware that deleting all missing values can induce a selection bias. \n",
        "Some missing values are very informative. For example, when MinGift is missing, it means that the donor never gave in the past 10 years (leading to but excluding last year). Instead of deleting this information, replacing it by 0 is more appropriate!\n",
        "\n",
        "A good understanding of the business case and the data can help you come up with more appropriate strategies to deal with missing values."
      ]
    },
    {
      "cell_type": "markdown",
      "source": [
        "# Data Imputation for Frequency and Seniority IN PT1 (AMOUNT)\n",
        "\n",
        "\n",
        "I believe that the variable of frequency is actually important to decide whether a person will donate or not as well as the seniority. \n",
        "\n",
        "Given the belief that if the person tends to have a high frequency of donating than it is more probable to donate next time. \n",
        "\n",
        "And Seniority works in the way that if you have more time in the campaign than the person has grown some sort of loyalty to donating.\n",
        "\n",
        "We will obviously provide statistics to verify this hypotheseses.\n",
        "\n"
      ],
      "metadata": {
        "id": "1e0J9F5rvlNM"
      },
      "id": "1e0J9F5rvlNM"
    },
    {
      "cell_type": "code",
      "execution_count": null,
      "id": "8251f011-2e56-49e1-8bdc-32a852dd2700",
      "metadata": {
        "collapsed": true,
        "colab": {
          "base_uri": "https://localhost:8080/",
          "height": 272
        },
        "id": "8251f011-2e56-49e1-8bdc-32a852dd2700",
        "outputId": "d1976ba5-9921-4b7f-9bc2-64d772e3a2df"
      },
      "outputs": [
        {
          "output_type": "execute_result",
          "data": {
            "text/plain": [
              "               ID LastName FirstName  Woman   Age    Salary  \\\n",
              "853397  2853398.0    OCHOA    WALTER    0.0  33.0  206200.0   \n",
              "63075   2063076.0  SAMUELS      LEAH    1.0  70.0   38000.0   \n",
              "372830  2372831.0  GOODMAN    SHERRY    1.0  58.0   21500.0   \n",
              "\n",
              "                   Education      City  SeniorList  NbActivities  ...  \\\n",
              "853397  University / College      City         2.0           1.0  ...   \n",
              "63075   University / College     Rural        10.0           0.0  ...   \n",
              "372830           High School  Suburban         4.0           2.0  ...   \n",
              "\n",
              "        Frequency  Seniority  TotalGift  MinGift  MaxGift  GaveLastYear  \\\n",
              "853397        1.0        2.0       80.0     80.0     80.0           0.0   \n",
              "63075         1.0        3.0       30.0     30.0     30.0           0.0   \n",
              "372830        4.0        4.0      140.0     10.0     60.0           1.0   \n",
              "\n",
              "        AmtLastYear  Contact  GaveThisYear  AmtThisYear  \n",
              "853397          0.0      0.0           0.0          0.0  \n",
              "63075           0.0      0.0           0.0          0.0  \n",
              "372830         75.0      0.0           0.0          0.0  \n",
              "\n",
              "[3 rows x 22 columns]"
            ],
            "text/html": [
              "\n",
              "  <div id=\"df-89532b75-8ad1-40fb-bd35-9fc04120df17\">\n",
              "    <div class=\"colab-df-container\">\n",
              "      <div>\n",
              "<style scoped>\n",
              "    .dataframe tbody tr th:only-of-type {\n",
              "        vertical-align: middle;\n",
              "    }\n",
              "\n",
              "    .dataframe tbody tr th {\n",
              "        vertical-align: top;\n",
              "    }\n",
              "\n",
              "    .dataframe thead th {\n",
              "        text-align: right;\n",
              "    }\n",
              "</style>\n",
              "<table border=\"1\" class=\"dataframe\">\n",
              "  <thead>\n",
              "    <tr style=\"text-align: right;\">\n",
              "      <th></th>\n",
              "      <th>ID</th>\n",
              "      <th>LastName</th>\n",
              "      <th>FirstName</th>\n",
              "      <th>Woman</th>\n",
              "      <th>Age</th>\n",
              "      <th>Salary</th>\n",
              "      <th>Education</th>\n",
              "      <th>City</th>\n",
              "      <th>SeniorList</th>\n",
              "      <th>NbActivities</th>\n",
              "      <th>...</th>\n",
              "      <th>Frequency</th>\n",
              "      <th>Seniority</th>\n",
              "      <th>TotalGift</th>\n",
              "      <th>MinGift</th>\n",
              "      <th>MaxGift</th>\n",
              "      <th>GaveLastYear</th>\n",
              "      <th>AmtLastYear</th>\n",
              "      <th>Contact</th>\n",
              "      <th>GaveThisYear</th>\n",
              "      <th>AmtThisYear</th>\n",
              "    </tr>\n",
              "  </thead>\n",
              "  <tbody>\n",
              "    <tr>\n",
              "      <th>853397</th>\n",
              "      <td>2853398.0</td>\n",
              "      <td>OCHOA</td>\n",
              "      <td>WALTER</td>\n",
              "      <td>0.0</td>\n",
              "      <td>33.0</td>\n",
              "      <td>206200.0</td>\n",
              "      <td>University / College</td>\n",
              "      <td>City</td>\n",
              "      <td>2.0</td>\n",
              "      <td>1.0</td>\n",
              "      <td>...</td>\n",
              "      <td>1.0</td>\n",
              "      <td>2.0</td>\n",
              "      <td>80.0</td>\n",
              "      <td>80.0</td>\n",
              "      <td>80.0</td>\n",
              "      <td>0.0</td>\n",
              "      <td>0.0</td>\n",
              "      <td>0.0</td>\n",
              "      <td>0.0</td>\n",
              "      <td>0.0</td>\n",
              "    </tr>\n",
              "    <tr>\n",
              "      <th>63075</th>\n",
              "      <td>2063076.0</td>\n",
              "      <td>SAMUELS</td>\n",
              "      <td>LEAH</td>\n",
              "      <td>1.0</td>\n",
              "      <td>70.0</td>\n",
              "      <td>38000.0</td>\n",
              "      <td>University / College</td>\n",
              "      <td>Rural</td>\n",
              "      <td>10.0</td>\n",
              "      <td>0.0</td>\n",
              "      <td>...</td>\n",
              "      <td>1.0</td>\n",
              "      <td>3.0</td>\n",
              "      <td>30.0</td>\n",
              "      <td>30.0</td>\n",
              "      <td>30.0</td>\n",
              "      <td>0.0</td>\n",
              "      <td>0.0</td>\n",
              "      <td>0.0</td>\n",
              "      <td>0.0</td>\n",
              "      <td>0.0</td>\n",
              "    </tr>\n",
              "    <tr>\n",
              "      <th>372830</th>\n",
              "      <td>2372831.0</td>\n",
              "      <td>GOODMAN</td>\n",
              "      <td>SHERRY</td>\n",
              "      <td>1.0</td>\n",
              "      <td>58.0</td>\n",
              "      <td>21500.0</td>\n",
              "      <td>High School</td>\n",
              "      <td>Suburban</td>\n",
              "      <td>4.0</td>\n",
              "      <td>2.0</td>\n",
              "      <td>...</td>\n",
              "      <td>4.0</td>\n",
              "      <td>4.0</td>\n",
              "      <td>140.0</td>\n",
              "      <td>10.0</td>\n",
              "      <td>60.0</td>\n",
              "      <td>1.0</td>\n",
              "      <td>75.0</td>\n",
              "      <td>0.0</td>\n",
              "      <td>0.0</td>\n",
              "      <td>0.0</td>\n",
              "    </tr>\n",
              "  </tbody>\n",
              "</table>\n",
              "<p>3 rows × 22 columns</p>\n",
              "</div>\n",
              "      <button class=\"colab-df-convert\" onclick=\"convertToInteractive('df-89532b75-8ad1-40fb-bd35-9fc04120df17')\"\n",
              "              title=\"Convert this dataframe to an interactive table.\"\n",
              "              style=\"display:none;\">\n",
              "        \n",
              "  <svg xmlns=\"http://www.w3.org/2000/svg\" height=\"24px\"viewBox=\"0 0 24 24\"\n",
              "       width=\"24px\">\n",
              "    <path d=\"M0 0h24v24H0V0z\" fill=\"none\"/>\n",
              "    <path d=\"M18.56 5.44l.94 2.06.94-2.06 2.06-.94-2.06-.94-.94-2.06-.94 2.06-2.06.94zm-11 1L8.5 8.5l.94-2.06 2.06-.94-2.06-.94L8.5 2.5l-.94 2.06-2.06.94zm10 10l.94 2.06.94-2.06 2.06-.94-2.06-.94-.94-2.06-.94 2.06-2.06.94z\"/><path d=\"M17.41 7.96l-1.37-1.37c-.4-.4-.92-.59-1.43-.59-.52 0-1.04.2-1.43.59L10.3 9.45l-7.72 7.72c-.78.78-.78 2.05 0 2.83L4 21.41c.39.39.9.59 1.41.59.51 0 1.02-.2 1.41-.59l7.78-7.78 2.81-2.81c.8-.78.8-2.07 0-2.86zM5.41 20L4 18.59l7.72-7.72 1.47 1.35L5.41 20z\"/>\n",
              "  </svg>\n",
              "      </button>\n",
              "      \n",
              "  <style>\n",
              "    .colab-df-container {\n",
              "      display:flex;\n",
              "      flex-wrap:wrap;\n",
              "      gap: 12px;\n",
              "    }\n",
              "\n",
              "    .colab-df-convert {\n",
              "      background-color: #E8F0FE;\n",
              "      border: none;\n",
              "      border-radius: 50%;\n",
              "      cursor: pointer;\n",
              "      display: none;\n",
              "      fill: #1967D2;\n",
              "      height: 32px;\n",
              "      padding: 0 0 0 0;\n",
              "      width: 32px;\n",
              "    }\n",
              "\n",
              "    .colab-df-convert:hover {\n",
              "      background-color: #E2EBFA;\n",
              "      box-shadow: 0px 1px 2px rgba(60, 64, 67, 0.3), 0px 1px 3px 1px rgba(60, 64, 67, 0.15);\n",
              "      fill: #174EA6;\n",
              "    }\n",
              "\n",
              "    [theme=dark] .colab-df-convert {\n",
              "      background-color: #3B4455;\n",
              "      fill: #D2E3FC;\n",
              "    }\n",
              "\n",
              "    [theme=dark] .colab-df-convert:hover {\n",
              "      background-color: #434B5C;\n",
              "      box-shadow: 0px 1px 3px 1px rgba(0, 0, 0, 0.15);\n",
              "      filter: drop-shadow(0px 1px 2px rgba(0, 0, 0, 0.3));\n",
              "      fill: #FFFFFF;\n",
              "    }\n",
              "  </style>\n",
              "\n",
              "      <script>\n",
              "        const buttonEl =\n",
              "          document.querySelector('#df-89532b75-8ad1-40fb-bd35-9fc04120df17 button.colab-df-convert');\n",
              "        buttonEl.style.display =\n",
              "          google.colab.kernel.accessAllowed ? 'block' : 'none';\n",
              "\n",
              "        async function convertToInteractive(key) {\n",
              "          const element = document.querySelector('#df-89532b75-8ad1-40fb-bd35-9fc04120df17');\n",
              "          const dataTable =\n",
              "            await google.colab.kernel.invokeFunction('convertToInteractive',\n",
              "                                                     [key], {});\n",
              "          if (!dataTable) return;\n",
              "\n",
              "          const docLinkHtml = 'Like what you see? Visit the ' +\n",
              "            '<a target=\"_blank\" href=https://colab.research.google.com/notebooks/data_table.ipynb>data table notebook</a>'\n",
              "            + ' to learn more about interactive tables.';\n",
              "          element.innerHTML = '';\n",
              "          dataTable['output_type'] = 'display_data';\n",
              "          await google.colab.output.renderOutput(dataTable, element);\n",
              "          const docLink = document.createElement('div');\n",
              "          docLink.innerHTML = docLinkHtml;\n",
              "          element.appendChild(docLink);\n",
              "        }\n",
              "      </script>\n",
              "    </div>\n",
              "  </div>\n",
              "  "
            ]
          },
          "metadata": {},
          "execution_count": 15
        }
      ],
      "source": [
        "# In this case, we are replacing MinGift with 0.\n",
        "# You can do the same for what you think is reasonable for dealing with the other variables.\n",
        "\n",
        "data_merge[['MinGift']] = data_merge[['MinGift']].fillna(value=0)  \n",
        "\n",
        "#imputacion vieja de la frecuencia\n",
        "#meanFqcy = data_merge[['Frequency']].mean()\n",
        "#data_merge[['Frequency']] = data_merge[['Frequency']].fillna(value=meanFqcy) \n",
        "\n",
        "data_merge.sample(3)"
      ]
    },
    {
      "cell_type": "markdown",
      "id": "780fc71d-171e-4bb7-9e0c-89572856cc5f",
      "metadata": {
        "id": "780fc71d-171e-4bb7-9e0c-89572856cc5f"
      },
      "source": [
        "## Data Partition"
      ]
    },
    {
      "cell_type": "code",
      "execution_count": null,
      "id": "859f053e-5121-4edd-9d99-bed485d7d0cb",
      "metadata": {
        "collapsed": true,
        "colab": {
          "base_uri": "https://localhost:8080/",
          "height": 240
        },
        "id": "859f053e-5121-4edd-9d99-bed485d7d0cb",
        "outputId": "24c80673-e95f-4a66-f2b1-19a9fb4441ee"
      },
      "outputs": [
        {
          "output_type": "execute_result",
          "data": {
            "text/plain": [
              "               ID LastName FirstName  Woman   Age    Salary  \\\n",
              "611527  2611528.0   HARRIS      CODY    0.0  20.0  240500.0   \n",
              "363336  2363337.0   GORDON    ESTHER    1.0  43.0  225800.0   \n",
              "\n",
              "                   Education      City  SeniorList  NbActivities  ...  \\\n",
              "611527  University / College  Downtown         0.0           0.0  ...   \n",
              "363336  University / College      City         1.0           0.0  ...   \n",
              "\n",
              "        Frequency  Seniority  TotalGift  MinGift  MaxGift  GaveLastYear  \\\n",
              "611527        NaN        NaN        NaN      0.0      NaN           0.0   \n",
              "363336        NaN        NaN        NaN      0.0      NaN           0.0   \n",
              "\n",
              "        AmtLastYear  Contact  GaveThisYear  AmtThisYear  \n",
              "611527          0.0      0.0           0.0          0.0  \n",
              "363336          0.0      0.0           0.0          0.0  \n",
              "\n",
              "[2 rows x 22 columns]"
            ],
            "text/html": [
              "\n",
              "  <div id=\"df-c39cf914-f4a6-404f-a8c2-13192c9709e9\">\n",
              "    <div class=\"colab-df-container\">\n",
              "      <div>\n",
              "<style scoped>\n",
              "    .dataframe tbody tr th:only-of-type {\n",
              "        vertical-align: middle;\n",
              "    }\n",
              "\n",
              "    .dataframe tbody tr th {\n",
              "        vertical-align: top;\n",
              "    }\n",
              "\n",
              "    .dataframe thead th {\n",
              "        text-align: right;\n",
              "    }\n",
              "</style>\n",
              "<table border=\"1\" class=\"dataframe\">\n",
              "  <thead>\n",
              "    <tr style=\"text-align: right;\">\n",
              "      <th></th>\n",
              "      <th>ID</th>\n",
              "      <th>LastName</th>\n",
              "      <th>FirstName</th>\n",
              "      <th>Woman</th>\n",
              "      <th>Age</th>\n",
              "      <th>Salary</th>\n",
              "      <th>Education</th>\n",
              "      <th>City</th>\n",
              "      <th>SeniorList</th>\n",
              "      <th>NbActivities</th>\n",
              "      <th>...</th>\n",
              "      <th>Frequency</th>\n",
              "      <th>Seniority</th>\n",
              "      <th>TotalGift</th>\n",
              "      <th>MinGift</th>\n",
              "      <th>MaxGift</th>\n",
              "      <th>GaveLastYear</th>\n",
              "      <th>AmtLastYear</th>\n",
              "      <th>Contact</th>\n",
              "      <th>GaveThisYear</th>\n",
              "      <th>AmtThisYear</th>\n",
              "    </tr>\n",
              "  </thead>\n",
              "  <tbody>\n",
              "    <tr>\n",
              "      <th>611527</th>\n",
              "      <td>2611528.0</td>\n",
              "      <td>HARRIS</td>\n",
              "      <td>CODY</td>\n",
              "      <td>0.0</td>\n",
              "      <td>20.0</td>\n",
              "      <td>240500.0</td>\n",
              "      <td>University / College</td>\n",
              "      <td>Downtown</td>\n",
              "      <td>0.0</td>\n",
              "      <td>0.0</td>\n",
              "      <td>...</td>\n",
              "      <td>NaN</td>\n",
              "      <td>NaN</td>\n",
              "      <td>NaN</td>\n",
              "      <td>0.0</td>\n",
              "      <td>NaN</td>\n",
              "      <td>0.0</td>\n",
              "      <td>0.0</td>\n",
              "      <td>0.0</td>\n",
              "      <td>0.0</td>\n",
              "      <td>0.0</td>\n",
              "    </tr>\n",
              "    <tr>\n",
              "      <th>363336</th>\n",
              "      <td>2363337.0</td>\n",
              "      <td>GORDON</td>\n",
              "      <td>ESTHER</td>\n",
              "      <td>1.0</td>\n",
              "      <td>43.0</td>\n",
              "      <td>225800.0</td>\n",
              "      <td>University / College</td>\n",
              "      <td>City</td>\n",
              "      <td>1.0</td>\n",
              "      <td>0.0</td>\n",
              "      <td>...</td>\n",
              "      <td>NaN</td>\n",
              "      <td>NaN</td>\n",
              "      <td>NaN</td>\n",
              "      <td>0.0</td>\n",
              "      <td>NaN</td>\n",
              "      <td>0.0</td>\n",
              "      <td>0.0</td>\n",
              "      <td>0.0</td>\n",
              "      <td>0.0</td>\n",
              "      <td>0.0</td>\n",
              "    </tr>\n",
              "  </tbody>\n",
              "</table>\n",
              "<p>2 rows × 22 columns</p>\n",
              "</div>\n",
              "      <button class=\"colab-df-convert\" onclick=\"convertToInteractive('df-c39cf914-f4a6-404f-a8c2-13192c9709e9')\"\n",
              "              title=\"Convert this dataframe to an interactive table.\"\n",
              "              style=\"display:none;\">\n",
              "        \n",
              "  <svg xmlns=\"http://www.w3.org/2000/svg\" height=\"24px\"viewBox=\"0 0 24 24\"\n",
              "       width=\"24px\">\n",
              "    <path d=\"M0 0h24v24H0V0z\" fill=\"none\"/>\n",
              "    <path d=\"M18.56 5.44l.94 2.06.94-2.06 2.06-.94-2.06-.94-.94-2.06-.94 2.06-2.06.94zm-11 1L8.5 8.5l.94-2.06 2.06-.94-2.06-.94L8.5 2.5l-.94 2.06-2.06.94zm10 10l.94 2.06.94-2.06 2.06-.94-2.06-.94-.94-2.06-.94 2.06-2.06.94z\"/><path d=\"M17.41 7.96l-1.37-1.37c-.4-.4-.92-.59-1.43-.59-.52 0-1.04.2-1.43.59L10.3 9.45l-7.72 7.72c-.78.78-.78 2.05 0 2.83L4 21.41c.39.39.9.59 1.41.59.51 0 1.02-.2 1.41-.59l7.78-7.78 2.81-2.81c.8-.78.8-2.07 0-2.86zM5.41 20L4 18.59l7.72-7.72 1.47 1.35L5.41 20z\"/>\n",
              "  </svg>\n",
              "      </button>\n",
              "      \n",
              "  <style>\n",
              "    .colab-df-container {\n",
              "      display:flex;\n",
              "      flex-wrap:wrap;\n",
              "      gap: 12px;\n",
              "    }\n",
              "\n",
              "    .colab-df-convert {\n",
              "      background-color: #E8F0FE;\n",
              "      border: none;\n",
              "      border-radius: 50%;\n",
              "      cursor: pointer;\n",
              "      display: none;\n",
              "      fill: #1967D2;\n",
              "      height: 32px;\n",
              "      padding: 0 0 0 0;\n",
              "      width: 32px;\n",
              "    }\n",
              "\n",
              "    .colab-df-convert:hover {\n",
              "      background-color: #E2EBFA;\n",
              "      box-shadow: 0px 1px 2px rgba(60, 64, 67, 0.3), 0px 1px 3px 1px rgba(60, 64, 67, 0.15);\n",
              "      fill: #174EA6;\n",
              "    }\n",
              "\n",
              "    [theme=dark] .colab-df-convert {\n",
              "      background-color: #3B4455;\n",
              "      fill: #D2E3FC;\n",
              "    }\n",
              "\n",
              "    [theme=dark] .colab-df-convert:hover {\n",
              "      background-color: #434B5C;\n",
              "      box-shadow: 0px 1px 3px 1px rgba(0, 0, 0, 0.15);\n",
              "      filter: drop-shadow(0px 1px 2px rgba(0, 0, 0, 0.3));\n",
              "      fill: #FFFFFF;\n",
              "    }\n",
              "  </style>\n",
              "\n",
              "      <script>\n",
              "        const buttonEl =\n",
              "          document.querySelector('#df-c39cf914-f4a6-404f-a8c2-13192c9709e9 button.colab-df-convert');\n",
              "        buttonEl.style.display =\n",
              "          google.colab.kernel.accessAllowed ? 'block' : 'none';\n",
              "\n",
              "        async function convertToInteractive(key) {\n",
              "          const element = document.querySelector('#df-c39cf914-f4a6-404f-a8c2-13192c9709e9');\n",
              "          const dataTable =\n",
              "            await google.colab.kernel.invokeFunction('convertToInteractive',\n",
              "                                                     [key], {});\n",
              "          if (!dataTable) return;\n",
              "\n",
              "          const docLinkHtml = 'Like what you see? Visit the ' +\n",
              "            '<a target=\"_blank\" href=https://colab.research.google.com/notebooks/data_table.ipynb>data table notebook</a>'\n",
              "            + ' to learn more about interactive tables.';\n",
              "          element.innerHTML = '';\n",
              "          dataTable['output_type'] = 'display_data';\n",
              "          await google.colab.output.renderOutput(dataTable, element);\n",
              "          const docLink = document.createElement('div');\n",
              "          docLink.innerHTML = docLinkHtml;\n",
              "          element.appendChild(docLink);\n",
              "        }\n",
              "      </script>\n",
              "    </div>\n",
              "  </div>\n",
              "  "
            ]
          },
          "metadata": {},
          "execution_count": 16
        }
      ],
      "source": [
        "# The code below is an illustration on how to sample data on train and validation samples.\n",
        "# You could use another library or a built-in function to perform sampling.\n",
        "\n",
        "from sklearn.model_selection import train_test_split\n",
        "train, validation = train_test_split(data_merge, test_size=0.4, random_state=12345) \n",
        "\n",
        "#train.head()\n",
        "train.sample(2)"
      ]
    },
    {
      "cell_type": "markdown",
      "id": "edcdac44-c84b-4fe5-881f-05a2ecb98e6a",
      "metadata": {
        "id": "edcdac44-c84b-4fe5-881f-05a2ecb98e6a"
      },
      "source": [
        "# Prebuilt Models\n",
        "\n",
        "The sk-learn library offers more advanced models. \n",
        "\n",
        "sk-learn library: https://scikit-learn.org/stable/index.html  \n",
        "\n",
        "## Logistic Regression Model"
      ]
    },
    {
      "cell_type": "code",
      "execution_count": null,
      "id": "9f33ea4c",
      "metadata": {
        "id": "9f33ea4c"
      },
      "outputs": [],
      "source": [
        "from sklearn.linear_model import LogisticRegression\n",
        "\n",
        "#comment: it's numpy array ==> categorical variables\n",
        "X_train = train[['Age', 'Salary','MinGift', 'GaveLastYear','Contact', 'Woman', 'NbActivities']] \n",
        "Y_train = train['GaveThisYear']\n",
        "X_valid = validation[['Age', 'Salary','MinGift', 'GaveLastYear','Contact', 'Woman', 'NbActivities']] \n",
        "Y_valid = validation['GaveThisYear']\n",
        "\n",
        "regr = LogisticRegression()\n",
        "regr.fit(X_train,Y_train)\n",
        "regr_predict=regr.predict(X_valid)"
      ]
    },
    {
      "cell_type": "code",
      "execution_count": null,
      "id": "a6ff2946",
      "metadata": {
        "collapsed": true,
        "colab": {
          "base_uri": "https://localhost:8080/"
        },
        "id": "a6ff2946",
        "outputId": "b372fd2f-c874-4cda-f335-645d006df890"
      },
      "outputs": [
        {
          "output_type": "stream",
          "name": "stdout",
          "text": [
            "[[340196     17]\n",
            " [ 59783      4]]\n"
          ]
        }
      ],
      "source": [
        "#you can change the criteria\n",
        "\n",
        "import numpy as np\n",
        "from sklearn.metrics import confusion_matrix\n",
        "from sklearn.metrics import confusion_matrix\n",
        "\n",
        "confusion_matrix = confusion_matrix(Y_valid, regr_predict)\n",
        "print(confusion_matrix)"
      ]
    },
    {
      "cell_type": "code",
      "execution_count": null,
      "id": "21803ab0-c771-4a27-b0ab-81a2a304f719",
      "metadata": {
        "collapsed": true,
        "colab": {
          "base_uri": "https://localhost:8080/"
        },
        "id": "21803ab0-c771-4a27-b0ab-81a2a304f719",
        "outputId": "2066743d-110d-4a80-da0e-ac79be9a41af"
      },
      "outputs": [
        {
          "output_type": "stream",
          "name": "stdout",
          "text": [
            "              precision    recall  f1-score   support\n",
            "\n",
            "         0.0       0.85      1.00      0.92    340213\n",
            "         1.0       0.19      0.00      0.00     59787\n",
            "\n",
            "    accuracy                           0.85    400000\n",
            "   macro avg       0.52      0.50      0.46    400000\n",
            "weighted avg       0.75      0.85      0.78    400000\n",
            "\n"
          ]
        }
      ],
      "source": [
        "from sklearn.metrics import classification_report\n",
        "print(classification_report(Y_valid, regr_predict))"
      ]
    },
    {
      "cell_type": "code",
      "execution_count": null,
      "id": "d27a7bb1-e651-474a-ae3e-4f09540815e6",
      "metadata": {
        "collapsed": true,
        "colab": {
          "base_uri": "https://localhost:8080/",
          "height": 307
        },
        "id": "d27a7bb1-e651-474a-ae3e-4f09540815e6",
        "outputId": "863700b1-08ec-4059-c2a8-c0cfded284df"
      },
      "outputs": [
        {
          "output_type": "display_data",
          "data": {
            "text/plain": [
              "<Figure size 432x288 with 1 Axes>"
            ],
            "image/png": "[encoded data removed]"
          },
          "metadata": {
            "needs_background": "light"
          }
        }
      ],
      "source": [
        "from sklearn.metrics import roc_auc_score\n",
        "from sklearn.metrics import roc_curve\n",
        "import matplotlib.pyplot as plt \n",
        "plt.rc(\"font\", size=14)\n",
        "\n",
        "logit_roc_auc = roc_auc_score(Y_valid, regr.predict(X_valid))\n",
        "fpr, tpr, thresholds = roc_curve(Y_valid, regr.predict_proba(X_valid)[:,1])\n",
        "plt.figure()\n",
        "plt.plot(fpr, tpr, label='Logistic Regression (area = %0.2f)' % logit_roc_auc)\n",
        "plt.plot([0, 1], [0, 1],'r--')\n",
        "plt.xlim([0.0, 1.0])\n",
        "plt.ylim([0.0, 1.05])\n",
        "plt.xlabel('False Positive Rate')\n",
        "plt.ylabel('True Positive Rate')\n",
        "plt.title('Receiver operating characteristic')\n",
        "plt.legend(loc=\"lower right\")\n",
        "plt.savefig('Log_ROC')\n",
        "plt.show()"
      ]
    },
    {
      "cell_type": "markdown",
      "id": "a6f78891",
      "metadata": {
        "id": "a6f78891"
      },
      "source": [
        "## Decision Tree Model"
      ]
    },
    {
      "cell_type": "code",
      "execution_count": null,
      "id": "0560fcdd",
      "metadata": {
        "collapsed": true,
        "colab": {
          "base_uri": "https://localhost:8080/"
        },
        "id": "0560fcdd",
        "outputId": "f0636142-fb5b-4ea8-a0ba-f1406a49171d"
      },
      "outputs": [
        {
          "output_type": "stream",
          "name": "stdout",
          "text": [
            "[0.13107203 0.13107203 0.34609763 ... 0.08160276 0.60432402 0.08160276]\n"
          ]
        }
      ],
      "source": [
        "from sklearn.tree import DecisionTreeClassifier\n",
        "\n",
        "X_train = train[['Age','Salary','MinGift','GaveLastYear','Contact','Woman', 'NbActivities']] \n",
        "Y_train = train['GaveThisYear']\n",
        "X_valid = validation[['Age','Salary','MinGift','GaveLastYear','Contact','Woman', 'NbActivities']] \n",
        "Y_valid = validation['GaveThisYear']\n",
        "\n",
        "DT_model = DecisionTreeClassifier(max_depth=4,criterion=\"entropy\").fit(X_train,Y_train)\n",
        "DT_predict_proba = DT_model.predict_proba(X_valid) #Predictions on Testing data\n",
        "DT_predict = DT_model.predict(X_valid) #Predictions on Testing data\n",
        "# Probabilities for each class\n",
        "DT_probs = DT_model.predict_proba(X_valid)[:, 1]\n",
        "print(DT_probs)"
      ]
    },
    {
      "cell_type": "code",
      "execution_count": null,
      "id": "a634a11d",
      "metadata": {
        "collapsed": true,
        "colab": {
          "base_uri": "https://localhost:8080/"
        },
        "id": "a634a11d",
        "outputId": "5bd614c6-b2cf-4e60-839a-00d53bdbfec2"
      },
      "outputs": [
        {
          "output_type": "stream",
          "name": "stdout",
          "text": [
            "[[335358   4855]\n",
            " [ 52765   7022]]\n"
          ]
        }
      ],
      "source": [
        "#you can change the criteria\n",
        "import numpy as np\n",
        "from sklearn.metrics import confusion_matrix\n",
        "from sklearn.metrics import confusion_matrix\n",
        "\n",
        "\n",
        "confusion_matrix = confusion_matrix(Y_valid, DT_predict)\n",
        "print(confusion_matrix)\n"
      ]
    },
    {
      "cell_type": "code",
      "execution_count": null,
      "id": "44067449-2008-4519-aaf9-af32945e9fae",
      "metadata": {
        "collapsed": true,
        "colab": {
          "base_uri": "https://localhost:8080/"
        },
        "id": "44067449-2008-4519-aaf9-af32945e9fae",
        "outputId": "42b30df0-72c6-4077-e653-efbd26dc880a"
      },
      "outputs": [
        {
          "output_type": "stream",
          "name": "stdout",
          "text": [
            "              precision    recall  f1-score   support\n",
            "\n",
            "         0.0       0.86      0.99      0.92    340213\n",
            "         1.0       0.59      0.12      0.20     59787\n",
            "\n",
            "    accuracy                           0.86    400000\n",
            "   macro avg       0.73      0.55      0.56    400000\n",
            "weighted avg       0.82      0.86      0.81    400000\n",
            "\n"
          ]
        }
      ],
      "source": [
        "from sklearn.metrics import classification_report\n",
        "print(classification_report(Y_valid, DT_predict))"
      ]
    },
    {
      "cell_type": "code",
      "execution_count": null,
      "id": "51155944-104f-44c9-baf6-29bcb72446a9",
      "metadata": {
        "collapsed": true,
        "colab": {
          "base_uri": "https://localhost:8080/",
          "height": 307
        },
        "id": "51155944-104f-44c9-baf6-29bcb72446a9",
        "outputId": "277e98c3-d6ac-4728-a53d-9154d2914883"
      },
      "outputs": [
        {
          "output_type": "display_data",
          "data": {
            "text/plain": [
              "<Figure size 432x288 with 1 Axes>"
            ],
            "image/png": "[encoded data removed]"
          },
          "metadata": {
            "needs_background": "light"
          }
        }
      ],
      "source": [
        "from sklearn.metrics import roc_auc_score\n",
        "from sklearn.metrics import roc_curve\n",
        "import matplotlib.pyplot as plt \n",
        "plt.rc(\"font\", size=14)\n",
        "\n",
        "DT_roc_auc = roc_auc_score(Y_valid, DT_model.predict(X_valid))\n",
        "fpr, tpr, thresholds = roc_curve(Y_valid, DT_model.predict_proba(X_valid)[:,1])\n",
        "plt.figure()\n",
        "plt.plot(fpr, tpr, label='Decision tree (area = %0.2f)' % DT_roc_auc)\n",
        "plt.plot([0, 1], [0, 1],'r--')\n",
        "plt.xlim([0.0, 1.0])\n",
        "plt.ylim([0.0, 1.05])\n",
        "plt.xlabel('False Positive Rate')\n",
        "plt.ylabel('True Positive Rate')\n",
        "plt.title('Receiver operating characteristic')\n",
        "plt.legend(loc=\"lower right\")\n",
        "plt.savefig('DT_ROC')\n",
        "plt.show()"
      ]
    },
    {
      "cell_type": "markdown",
      "id": "195cb6d4",
      "metadata": {
        "id": "195cb6d4"
      },
      "source": [
        "### *Other models may also be helpful for this game*\n",
        "\n",
        "Reference: https://scikit-learn.org/stable/supervised_learning.html\n",
        "    "
      ]
    },
    {
      "cell_type": "markdown",
      "source": [
        "# HISTGRADBOOST"
      ],
      "metadata": {
        "id": "e6bYxGCpFugI"
      },
      "id": "e6bYxGCpFugI"
    },
    {
      "cell_type": "code",
      "source": [
        "from sklearn.ensemble import HistGradientBoostingClassifier\n",
        "\n",
        "X_train = train[['Age','Salary','MinGift','GaveLastYear','Contact','Woman', 'NbActivities']] \n",
        "Y_train = train['GaveThisYear']\n",
        "X_valid = validation[['Age','Salary','MinGift','GaveLastYear','Contact','Woman', 'NbActivities']] \n",
        "Y_valid = validation['GaveThisYear']\n",
        "\n",
        "DT_model = HistGradientBoostingClassifier(max_depth=5, loss = 'binary_crossentropy', random_state=12345).fit(X_train,Y_train)\n",
        "DT_predict_proba = DT_model.predict_proba(X_valid) #Predictions on Testing data\n",
        "DT_predict = DT_model.predict(X_valid) #Predictions on Testing data\n",
        "# Probabilities for each class\n",
        "DT_probs = DT_model.predict_proba(X_valid)[:, 1]\n",
        "print(DT_probs)"
      ],
      "metadata": {
        "colab": {
          "base_uri": "https://localhost:8080/"
        },
        "id": "bORUbB7WFxry",
        "outputId": "47653100-4106-4289-8ca8-d88e972b01f8"
      },
      "id": "bORUbB7WFxry",
      "execution_count": null,
      "outputs": [
        {
          "output_type": "stream",
          "name": "stdout",
          "text": [
            "[0.10844065 0.17156465 0.38461401 ... 0.07822751 0.60683057 0.10339104]\n"
          ]
        }
      ]
    },
    {
      "cell_type": "code",
      "source": [
        "#you can change the criteria\n",
        "import numpy as np\n",
        "from sklearn.metrics import confusion_matrix\n",
        "from sklearn.metrics import confusion_matrix\n",
        "\n",
        "\n",
        "confusion_matrix = confusion_matrix(Y_valid, DT_predict)\n",
        "print(confusion_matrix)"
      ],
      "metadata": {
        "colab": {
          "base_uri": "https://localhost:8080/"
        },
        "id": "Sz0gdSYbIt1G",
        "outputId": "e05a7408-e331-4cc6-d270-8aa2c4f083d8"
      },
      "id": "Sz0gdSYbIt1G",
      "execution_count": null,
      "outputs": [
        {
          "output_type": "stream",
          "name": "stdout",
          "text": [
            "[[335995   4218]\n",
            " [ 53138   6649]]\n"
          ]
        }
      ]
    },
    {
      "cell_type": "code",
      "source": [
        "from sklearn.metrics import classification_report\n",
        "print(classification_report(Y_valid, DT_predict))"
      ],
      "metadata": {
        "colab": {
          "base_uri": "https://localhost:8080/"
        },
        "id": "ucbEjXVPIyrY",
        "outputId": "4103ff58-8d25-4fdf-edbe-eba2c4d24f30"
      },
      "id": "ucbEjXVPIyrY",
      "execution_count": null,
      "outputs": [
        {
          "output_type": "stream",
          "name": "stdout",
          "text": [
            "              precision    recall  f1-score   support\n",
            "\n",
            "         0.0       0.86      0.99      0.92    340213\n",
            "         1.0       0.61      0.11      0.19     59787\n",
            "\n",
            "    accuracy                           0.86    400000\n",
            "   macro avg       0.74      0.55      0.55    400000\n",
            "weighted avg       0.83      0.86      0.81    400000\n",
            "\n"
          ]
        }
      ]
    },
    {
      "cell_type": "code",
      "source": [
        "from sklearn.metrics import roc_auc_score\n",
        "from sklearn.metrics import roc_curve\n",
        "import matplotlib.pyplot as plt \n",
        "plt.rc(\"font\", size=14)\n",
        "\n",
        "DT_roc_auc = roc_auc_score(Y_valid, DT_model.predict(X_valid))\n",
        "fpr, tpr, thresholds = roc_curve(Y_valid, DT_model.predict_proba(X_valid)[:,1])\n",
        "plt.figure()\n",
        "plt.plot(fpr, tpr, label='Decision tree (area = %0.2f)' % DT_roc_auc)\n",
        "plt.plot([0, 1], [0, 1],'r--')\n",
        "plt.xlim([0.0, 1.0])\n",
        "plt.ylim([0.0, 1.05])\n",
        "plt.xlabel('False Positive Rate')\n",
        "plt.ylabel('True Positive Rate')\n",
        "plt.title('Receiver operating characteristic')\n",
        "plt.legend(loc=\"lower right\")\n",
        "plt.savefig('DT_ROC')\n",
        "plt.show()"
      ],
      "metadata": {
        "colab": {
          "base_uri": "https://localhost:8080/",
          "height": 307
        },
        "id": "UqoTm-5WI8h2",
        "outputId": "55449913-29f5-4620-8af0-5798a40bead6"
      },
      "id": "UqoTm-5WI8h2",
      "execution_count": null,
      "outputs": [
        {
          "output_type": "display_data",
          "data": {
            "text/plain": [
              "<Figure size 432x288 with 1 Axes>"
            ],
            "image/png": "[encoded data removed]"
          },
          "metadata": {
            "needs_background": "light"
          }
        }
      ]
    },
    {
      "cell_type": "markdown",
      "source": [
        "# XGBOOST INTENT"
      ],
      "metadata": {
        "id": "_iB8whkHJDuF"
      },
      "id": "_iB8whkHJDuF"
    },
    {
      "cell_type": "code",
      "source": [
        "# from xgboost import XGBClassifier\n",
        "\n",
        "# X_train = train[['Age','Salary','MinGift','GaveLastYear','Contact','Woman', 'NbActivities']] \n",
        "# Y_train = train['GaveThisYear']\n",
        "# X_valid = validation[['Age','Salary','MinGift','GaveLastYear','Contact','Woman', 'NbActivities']] \n",
        "# Y_valid = validation['GaveThisYear']\n",
        "\n",
        "# DT_model = XGBClassifier(max_depth=4).fit(X_train,Y_train)\n",
        "# DT_predict_proba = DT_model.predict_proba(X_valid) #Predictions on Testing data\n",
        "# DT_predict = DT_model.predict(X_valid) #Predictions on Testing data\n",
        "# # Probabilities for each class\n",
        "# DT_probs = DT_model.predict_proba(X_valid)[:, 1]\n",
        "# print(DT_probs)"
      ],
      "metadata": {
        "id": "FXYn1ZpKJDfG"
      },
      "id": "FXYn1ZpKJDfG",
      "execution_count": null,
      "outputs": []
    },
    {
      "cell_type": "code",
      "source": [
        "# #you can change the criteria\n",
        "# import numpy as np\n",
        "# from sklearn.metrics import confusion_matrix\n",
        "# from sklearn.metrics import confusion_matrix\n",
        "\n",
        "\n",
        "# confusion_matrix = confusion_matrix(Y_valid, DT_predict)\n",
        "# print(confusion_matrix)"
      ],
      "metadata": {
        "id": "omP9PHRcJie6"
      },
      "id": "omP9PHRcJie6",
      "execution_count": null,
      "outputs": []
    },
    {
      "cell_type": "code",
      "source": [
        "# from sklearn.metrics import classification_report\n",
        "# print(classification_report(Y_valid, DT_predict))"
      ],
      "metadata": {
        "id": "KAjfjbElJi-f"
      },
      "id": "KAjfjbElJi-f",
      "execution_count": null,
      "outputs": []
    },
    {
      "cell_type": "code",
      "source": [
        "# from sklearn.metrics import roc_auc_score\n",
        "# from sklearn.metrics import roc_curve\n",
        "# import matplotlib.pyplot as plt \n",
        "# plt.rc(\"font\", size=14)\n",
        "\n",
        "# DT_roc_auc = roc_auc_score(Y_valid, DT_model.predict(X_valid))\n",
        "# fpr, tpr, thresholds = roc_curve(Y_valid, DT_model.predict_proba(X_valid)[:,1])\n",
        "# plt.figure()\n",
        "# plt.plot(fpr, tpr, label='Decision tree (area = %0.2f)' % DT_roc_auc)\n",
        "# plt.plot([0, 1], [0, 1],'r--')\n",
        "# plt.xlim([0.0, 1.0])\n",
        "# plt.ylim([0.0, 1.05])\n",
        "# plt.xlabel('False Positive Rate')\n",
        "# plt.ylabel('True Positive Rate')\n",
        "# plt.title('Receiver operating characteristic')\n",
        "# plt.legend(loc=\"lower right\")\n",
        "# plt.savefig('DT_ROC')\n",
        "# plt.show()"
      ],
      "metadata": {
        "id": "8ib-xCXRJml3"
      },
      "id": "8ib-xCXRJml3",
      "execution_count": null,
      "outputs": []
    },
    {
      "cell_type": "markdown",
      "id": "95983c35",
      "metadata": {
        "id": "95983c35"
      },
      "source": [
        "## Scoring New Data\n",
        "\n",
        "### Prepare data for scoring"
      ]
    },
    {
      "cell_type": "code",
      "execution_count": null,
      "id": "d1639b73",
      "metadata": {
        "id": "d1639b73"
      },
      "outputs": [],
      "source": [
        "data3 = sas_session.sasdata2dataframe(\n",
        "table='score',\n",
        "libref='cortex'\n",
        ")\n",
        "data4 = sas_session.sasdata2dataframe(\n",
        "table='score_rd2_contact',\n",
        "libref='cortex'\n",
        ")\n",
        "data5 = sas_session.sasdata2dataframe(\n",
        "table='SCORE_RD2_NOCONTACT',\n",
        "libref='cortex'\n",
        ")"
      ]
    },
    {
      "cell_type": "markdown",
      "id": "6aaee9cc-8511-41a8-b0ab-a882d405d88a",
      "metadata": {
        "id": "6aaee9cc-8511-41a8-b0ab-a882d405d88a"
      },
      "source": [
        " ### Score new data based on your champion model\n",
        " \n",
        " Pick your champion model from previous steps and use it to predict next year donations. \n",
        " \n",
        " In this case, the Decision Tree model performed better than the Logistic Regression model based on the AUC criterion."
      ]
    },
    {
      "cell_type": "markdown",
      "id": "685c9354-243e-434e-80d6-fcf57297e4b9",
      "metadata": {
        "id": "685c9354-243e-434e-80d6-fcf57297e4b9"
      },
      "source": [
        "### Predict 'probability of giving' for members who were contacted"
      ]
    },
    {
      "cell_type": "code",
      "execution_count": null,
      "id": "18b8a688-14e1-4877-805b-3b967a34b53b",
      "metadata": {
        "collapsed": true,
        "colab": {
          "base_uri": "https://localhost:8080/",
          "height": 206
        },
        "id": "18b8a688-14e1-4877-805b-3b967a34b53b",
        "outputId": "84b25af0-7b16-4135-9b3f-b562e9280b41"
      },
      "outputs": [
        {
          "output_type": "execute_result",
          "data": {
            "text/plain": [
              "          ID  ProbContact\n",
              "0  2000001.0     0.306209\n",
              "1  2000002.0     0.591656\n",
              "2  2000003.0     0.606096\n",
              "3  2000004.0     0.370276\n",
              "4  2000005.0     0.529744"
            ],
            "text/html": [
              "\n",
              "  <div id=\"df-6516ce5a-369c-43f4-9ce9-2b35066b7bf0\">\n",
              "    <div class=\"colab-df-container\">\n",
              "      <div>\n",
              "<style scoped>\n",
              "    .dataframe tbody tr th:only-of-type {\n",
              "        vertical-align: middle;\n",
              "    }\n",
              "\n",
              "    .dataframe tbody tr th {\n",
              "        vertical-align: top;\n",
              "    }\n",
              "\n",
              "    .dataframe thead th {\n",
              "        text-align: right;\n",
              "    }\n",
              "</style>\n",
              "<table border=\"1\" class=\"dataframe\">\n",
              "  <thead>\n",
              "    <tr style=\"text-align: right;\">\n",
              "      <th></th>\n",
              "      <th>ID</th>\n",
              "      <th>ProbContact</th>\n",
              "    </tr>\n",
              "  </thead>\n",
              "  <tbody>\n",
              "    <tr>\n",
              "      <th>0</th>\n",
              "      <td>2000001.0</td>\n",
              "      <td>0.306209</td>\n",
              "    </tr>\n",
              "    <tr>\n",
              "      <th>1</th>\n",
              "      <td>2000002.0</td>\n",
              "      <td>0.591656</td>\n",
              "    </tr>\n",
              "    <tr>\n",
              "      <th>2</th>\n",
              "      <td>2000003.0</td>\n",
              "      <td>0.606096</td>\n",
              "    </tr>\n",
              "    <tr>\n",
              "      <th>3</th>\n",
              "      <td>2000004.0</td>\n",
              "      <td>0.370276</td>\n",
              "    </tr>\n",
              "    <tr>\n",
              "      <th>4</th>\n",
              "      <td>2000005.0</td>\n",
              "      <td>0.529744</td>\n",
              "    </tr>\n",
              "  </tbody>\n",
              "</table>\n",
              "</div>\n",
              "      <button class=\"colab-df-convert\" onclick=\"convertToInteractive('df-6516ce5a-369c-43f4-9ce9-2b35066b7bf0')\"\n",
              "              title=\"Convert this dataframe to an interactive table.\"\n",
              "              style=\"display:none;\">\n",
              "        \n",
              "  <svg xmlns=\"http://www.w3.org/2000/svg\" height=\"24px\"viewBox=\"0 0 24 24\"\n",
              "       width=\"24px\">\n",
              "    <path d=\"M0 0h24v24H0V0z\" fill=\"none\"/>\n",
              "    <path d=\"M18.56 5.44l.94 2.06.94-2.06 2.06-.94-2.06-.94-.94-2.06-.94 2.06-2.06.94zm-11 1L8.5 8.5l.94-2.06 2.06-.94-2.06-.94L8.5 2.5l-.94 2.06-2.06.94zm10 10l.94 2.06.94-2.06 2.06-.94-2.06-.94-.94-2.06-.94 2.06-2.06.94z\"/><path d=\"M17.41 7.96l-1.37-1.37c-.4-.4-.92-.59-1.43-.59-.52 0-1.04.2-1.43.59L10.3 9.45l-7.72 7.72c-.78.78-.78 2.05 0 2.83L4 21.41c.39.39.9.59 1.41.59.51 0 1.02-.2 1.41-.59l7.78-7.78 2.81-2.81c.8-.78.8-2.07 0-2.86zM5.41 20L4 18.59l7.72-7.72 1.47 1.35L5.41 20z\"/>\n",
              "  </svg>\n",
              "      </button>\n",
              "      \n",
              "  <style>\n",
              "    .colab-df-container {\n",
              "      display:flex;\n",
              "      flex-wrap:wrap;\n",
              "      gap: 12px;\n",
              "    }\n",
              "\n",
              "    .colab-df-convert {\n",
              "      background-color: #E8F0FE;\n",
              "      border: none;\n",
              "      border-radius: 50%;\n",
              "      cursor: pointer;\n",
              "      display: none;\n",
              "      fill: #1967D2;\n",
              "      height: 32px;\n",
              "      padding: 0 0 0 0;\n",
              "      width: 32px;\n",
              "    }\n",
              "\n",
              "    .colab-df-convert:hover {\n",
              "      background-color: #E2EBFA;\n",
              "      box-shadow: 0px 1px 2px rgba(60, 64, 67, 0.3), 0px 1px 3px 1px rgba(60, 64, 67, 0.15);\n",
              "      fill: #174EA6;\n",
              "    }\n",
              "\n",
              "    [theme=dark] .colab-df-convert {\n",
              "      background-color: #3B4455;\n",
              "      fill: #D2E3FC;\n",
              "    }\n",
              "\n",
              "    [theme=dark] .colab-df-convert:hover {\n",
              "      background-color: #434B5C;\n",
              "      box-shadow: 0px 1px 3px 1px rgba(0, 0, 0, 0.15);\n",
              "      filter: drop-shadow(0px 1px 2px rgba(0, 0, 0, 0.3));\n",
              "      fill: #FFFFFF;\n",
              "    }\n",
              "  </style>\n",
              "\n",
              "      <script>\n",
              "        const buttonEl =\n",
              "          document.querySelector('#df-6516ce5a-369c-43f4-9ce9-2b35066b7bf0 button.colab-df-convert');\n",
              "        buttonEl.style.display =\n",
              "          google.colab.kernel.accessAllowed ? 'block' : 'none';\n",
              "\n",
              "        async function convertToInteractive(key) {\n",
              "          const element = document.querySelector('#df-6516ce5a-369c-43f4-9ce9-2b35066b7bf0');\n",
              "          const dataTable =\n",
              "            await google.colab.kernel.invokeFunction('convertToInteractive',\n",
              "                                                     [key], {});\n",
              "          if (!dataTable) return;\n",
              "\n",
              "          const docLinkHtml = 'Like what you see? Visit the ' +\n",
              "            '<a target=\"_blank\" href=https://colab.research.google.com/notebooks/data_table.ipynb>data table notebook</a>'\n",
              "            + ' to learn more about interactive tables.';\n",
              "          element.innerHTML = '';\n",
              "          dataTable['output_type'] = 'display_data';\n",
              "          await google.colab.output.renderOutput(dataTable, element);\n",
              "          const docLink = document.createElement('div');\n",
              "          docLink.innerHTML = docLinkHtml;\n",
              "          element.appendChild(docLink);\n",
              "        }\n",
              "      </script>\n",
              "    </div>\n",
              "  </div>\n",
              "  "
            ]
          },
          "metadata": {},
          "execution_count": 34
        }
      ],
      "source": [
        "scoring_data_contact = pd.merge(data3, data4, on=[\"ID\"],how=\"right\")\n",
        "\n",
        "# Perform the same strategy for handling missing values for the score dataset.\n",
        "# In this case, we will only replace missing values of the MinGift variable.\n",
        "\n",
        "scoring_data_contact[['MinGift']] = scoring_data_contact[['MinGift']].fillna(value=0) \n",
        "\n",
        "#imputacion vieja para la frecuencia ----\n",
        "#meanFqcy = data_merge[['Frequency']].mean()\n",
        "#scoring_data_contact[['Frequency']] = scoring_data_contact[['Frequency']].fillna(value=meanFqcy) \n",
        "\n",
        "#scoring_data_contact.head()\n",
        "\n",
        "X = scoring_data_contact[['Age','Salary','MinGift','GaveLastYear','Contact','Woman', 'NbActivities']] \n",
        "DT_predict_contact=DT_model.predict_proba(X)[:,1]\n",
        "scoring_data_contact['Prediction_prob'] = DT_predict_contact\n",
        "\n",
        "scoring_data_contact= scoring_data_contact[['ID','Prediction_prob']]\n",
        "scoring_data_contact = scoring_data_contact.rename({'Prediction_prob': 'ProbContact'}, axis=1) \n",
        "scoring_data_contact.head()"
      ]
    },
    {
      "cell_type": "markdown",
      "id": "9606447c-5c1e-4028-b6ea-44f52897524d",
      "metadata": {
        "id": "9606447c-5c1e-4028-b6ea-44f52897524d"
      },
      "source": [
        "### Predict 'probability of giving' for members who were not contacted"
      ]
    },
    {
      "cell_type": "code",
      "execution_count": null,
      "id": "de392f5e",
      "metadata": {
        "collapsed": true,
        "colab": {
          "base_uri": "https://localhost:8080/",
          "height": 206
        },
        "id": "de392f5e",
        "outputId": "39fff782-59cb-45df-d24a-78e7afcfbbf0"
      },
      "outputs": [
        {
          "output_type": "execute_result",
          "data": {
            "text/plain": [
              "          ID  ProbNoContact\n",
              "0  2000001.0       0.114107\n",
              "1  2000002.0       0.103391\n",
              "2  2000003.0       0.078024\n",
              "3  2000004.0       0.074258\n",
              "4  2000005.0       0.077917"
            ],
            "text/html": [
              "\n",
              "  <div id=\"df-000f50ec-3974-44cc-a794-9b6da372f77e\">\n",
              "    <div class=\"colab-df-container\">\n",
              "      <div>\n",
              "<style scoped>\n",
              "    .dataframe tbody tr th:only-of-type {\n",
              "        vertical-align: middle;\n",
              "    }\n",
              "\n",
              "    .dataframe tbody tr th {\n",
              "        vertical-align: top;\n",
              "    }\n",
              "\n",
              "    .dataframe thead th {\n",
              "        text-align: right;\n",
              "    }\n",
              "</style>\n",
              "<table border=\"1\" class=\"dataframe\">\n",
              "  <thead>\n",
              "    <tr style=\"text-align: right;\">\n",
              "      <th></th>\n",
              "      <th>ID</th>\n",
              "      <th>ProbNoContact</th>\n",
              "    </tr>\n",
              "  </thead>\n",
              "  <tbody>\n",
              "    <tr>\n",
              "      <th>0</th>\n",
              "      <td>2000001.0</td>\n",
              "      <td>0.114107</td>\n",
              "    </tr>\n",
              "    <tr>\n",
              "      <th>1</th>\n",
              "      <td>2000002.0</td>\n",
              "      <td>0.103391</td>\n",
              "    </tr>\n",
              "    <tr>\n",
              "      <th>2</th>\n",
              "      <td>2000003.0</td>\n",
              "      <td>0.078024</td>\n",
              "    </tr>\n",
              "    <tr>\n",
              "      <th>3</th>\n",
              "      <td>2000004.0</td>\n",
              "      <td>0.074258</td>\n",
              "    </tr>\n",
              "    <tr>\n",
              "      <th>4</th>\n",
              "      <td>2000005.0</td>\n",
              "      <td>0.077917</td>\n",
              "    </tr>\n",
              "  </tbody>\n",
              "</table>\n",
              "</div>\n",
              "      <button class=\"colab-df-convert\" onclick=\"convertToInteractive('df-000f50ec-3974-44cc-a794-9b6da372f77e')\"\n",
              "              title=\"Convert this dataframe to an interactive table.\"\n",
              "              style=\"display:none;\">\n",
              "        \n",
              "  <svg xmlns=\"http://www.w3.org/2000/svg\" height=\"24px\"viewBox=\"0 0 24 24\"\n",
              "       width=\"24px\">\n",
              "    <path d=\"M0 0h24v24H0V0z\" fill=\"none\"/>\n",
              "    <path d=\"M18.56 5.44l.94 2.06.94-2.06 2.06-.94-2.06-.94-.94-2.06-.94 2.06-2.06.94zm-11 1L8.5 8.5l.94-2.06 2.06-.94-2.06-.94L8.5 2.5l-.94 2.06-2.06.94zm10 10l.94 2.06.94-2.06 2.06-.94-2.06-.94-.94-2.06-.94 2.06-2.06.94z\"/><path d=\"M17.41 7.96l-1.37-1.37c-.4-.4-.92-.59-1.43-.59-.52 0-1.04.2-1.43.59L10.3 9.45l-7.72 7.72c-.78.78-.78 2.05 0 2.83L4 21.41c.39.39.9.59 1.41.59.51 0 1.02-.2 1.41-.59l7.78-7.78 2.81-2.81c.8-.78.8-2.07 0-2.86zM5.41 20L4 18.59l7.72-7.72 1.47 1.35L5.41 20z\"/>\n",
              "  </svg>\n",
              "      </button>\n",
              "      \n",
              "  <style>\n",
              "    .colab-df-container {\n",
              "      display:flex;\n",
              "      flex-wrap:wrap;\n",
              "      gap: 12px;\n",
              "    }\n",
              "\n",
              "    .colab-df-convert {\n",
              "      background-color: #E8F0FE;\n",
              "      border: none;\n",
              "      border-radius: 50%;\n",
              "      cursor: pointer;\n",
              "      display: none;\n",
              "      fill: #1967D2;\n",
              "      height: 32px;\n",
              "      padding: 0 0 0 0;\n",
              "      width: 32px;\n",
              "    }\n",
              "\n",
              "    .colab-df-convert:hover {\n",
              "      background-color: #E2EBFA;\n",
              "      box-shadow: 0px 1px 2px rgba(60, 64, 67, 0.3), 0px 1px 3px 1px rgba(60, 64, 67, 0.15);\n",
              "      fill: #174EA6;\n",
              "    }\n",
              "\n",
              "    [theme=dark] .colab-df-convert {\n",
              "      background-color: #3B4455;\n",
              "      fill: #D2E3FC;\n",
              "    }\n",
              "\n",
              "    [theme=dark] .colab-df-convert:hover {\n",
              "      background-color: #434B5C;\n",
              "      box-shadow: 0px 1px 3px 1px rgba(0, 0, 0, 0.15);\n",
              "      filter: drop-shadow(0px 1px 2px rgba(0, 0, 0, 0.3));\n",
              "      fill: #FFFFFF;\n",
              "    }\n",
              "  </style>\n",
              "\n",
              "      <script>\n",
              "        const buttonEl =\n",
              "          document.querySelector('#df-000f50ec-3974-44cc-a794-9b6da372f77e button.colab-df-convert');\n",
              "        buttonEl.style.display =\n",
              "          google.colab.kernel.accessAllowed ? 'block' : 'none';\n",
              "\n",
              "        async function convertToInteractive(key) {\n",
              "          const element = document.querySelector('#df-000f50ec-3974-44cc-a794-9b6da372f77e');\n",
              "          const dataTable =\n",
              "            await google.colab.kernel.invokeFunction('convertToInteractive',\n",
              "                                                     [key], {});\n",
              "          if (!dataTable) return;\n",
              "\n",
              "          const docLinkHtml = 'Like what you see? Visit the ' +\n",
              "            '<a target=\"_blank\" href=https://colab.research.google.com/notebooks/data_table.ipynb>data table notebook</a>'\n",
              "            + ' to learn more about interactive tables.';\n",
              "          element.innerHTML = '';\n",
              "          dataTable['output_type'] = 'display_data';\n",
              "          await google.colab.output.renderOutput(dataTable, element);\n",
              "          const docLink = document.createElement('div');\n",
              "          docLink.innerHTML = docLinkHtml;\n",
              "          element.appendChild(docLink);\n",
              "        }\n",
              "      </script>\n",
              "    </div>\n",
              "  </div>\n",
              "  "
            ]
          },
          "metadata": {},
          "execution_count": 35
        }
      ],
      "source": [
        "scoring_data_nocontact = pd.merge(data3, data5, on=[\"ID\"],how=\"right\")\n",
        "\n",
        "# Perform the same strategy for handling missing values for the score dataset.\n",
        "# In this case, we will only replace missing values of the MinGift variable.\n",
        "\n",
        "scoring_data_nocontact[['MinGift']] = scoring_data_nocontact[['MinGift']].fillna(value=0) \n",
        "#imputacion vieja de la frequencia\n",
        "#meanFqcy = data_merge[['Frequency']].mean()\n",
        "#scoring_data_nocontact[['Frequency']] = scoring_data_nocontact[['Frequency']].fillna(value=meanFqcy) \n",
        "\n",
        "#scoring_data_contact.head()\n",
        "\n",
        "X = scoring_data_nocontact[['Age','Salary','MinGift','GaveLastYear','Contact','Woman', 'NbActivities']] \n",
        "DT_predict_nocontact=DT_model.predict_proba(X)[:,1]\n",
        "scoring_data_nocontact['Prediction_prob'] = DT_predict_nocontact\n",
        "\n",
        "scoring_data_nocontact= scoring_data_nocontact[['ID','Prediction_prob']]\n",
        "scoring_data_nocontact = scoring_data_nocontact.rename({'Prediction_prob': 'ProbNoContact'}, axis=1) \n",
        "scoring_data_nocontact.head()"
      ]
    },
    {
      "cell_type": "code",
      "execution_count": null,
      "id": "5036d69c",
      "metadata": {
        "collapsed": true,
        "colab": {
          "base_uri": "https://localhost:8080/",
          "height": 363
        },
        "id": "5036d69c",
        "outputId": "8d50c12f-31ad-463b-82ba-ba50536f33fa"
      },
      "outputs": [
        {
          "output_type": "execute_result",
          "data": {
            "text/plain": [
              "               ID  ProbContact  ProbNoContact\n",
              "458557  2458558.0     0.227581       0.166771\n",
              "325589  2325590.0     0.334295       0.108886\n",
              "424624  2424625.0     0.306836       0.078529\n",
              "159134  2159135.0     0.300369       0.074308\n",
              "470387  2470388.0     0.686907       0.144195\n",
              "82745   2082746.0     0.605321       0.077958\n",
              "762449  2762450.0     0.299108       0.217956\n",
              "249903  2249904.0     0.155915       0.078228\n",
              "426175  2426176.0     0.371814       0.078263\n",
              "228472  2228473.0     0.374945       0.075222"
            ],
            "text/html": [
              "\n",
              "  <div id=\"df-1ae62aa9-6a34-4112-94c5-d577cc774164\">\n",
              "    <div class=\"colab-df-container\">\n",
              "      <div>\n",
              "<style scoped>\n",
              "    .dataframe tbody tr th:only-of-type {\n",
              "        vertical-align: middle;\n",
              "    }\n",
              "\n",
              "    .dataframe tbody tr th {\n",
              "        vertical-align: top;\n",
              "    }\n",
              "\n",
              "    .dataframe thead th {\n",
              "        text-align: right;\n",
              "    }\n",
              "</style>\n",
              "<table border=\"1\" class=\"dataframe\">\n",
              "  <thead>\n",
              "    <tr style=\"text-align: right;\">\n",
              "      <th></th>\n",
              "      <th>ID</th>\n",
              "      <th>ProbContact</th>\n",
              "      <th>ProbNoContact</th>\n",
              "    </tr>\n",
              "  </thead>\n",
              "  <tbody>\n",
              "    <tr>\n",
              "      <th>458557</th>\n",
              "      <td>2458558.0</td>\n",
              "      <td>0.227581</td>\n",
              "      <td>0.166771</td>\n",
              "    </tr>\n",
              "    <tr>\n",
              "      <th>325589</th>\n",
              "      <td>2325590.0</td>\n",
              "      <td>0.334295</td>\n",
              "      <td>0.108886</td>\n",
              "    </tr>\n",
              "    <tr>\n",
              "      <th>424624</th>\n",
              "      <td>2424625.0</td>\n",
              "      <td>0.306836</td>\n",
              "      <td>0.078529</td>\n",
              "    </tr>\n",
              "    <tr>\n",
              "      <th>159134</th>\n",
              "      <td>2159135.0</td>\n",
              "      <td>0.300369</td>\n",
              "      <td>0.074308</td>\n",
              "    </tr>\n",
              "    <tr>\n",
              "      <th>470387</th>\n",
              "      <td>2470388.0</td>\n",
              "      <td>0.686907</td>\n",
              "      <td>0.144195</td>\n",
              "    </tr>\n",
              "    <tr>\n",
              "      <th>82745</th>\n",
              "      <td>2082746.0</td>\n",
              "      <td>0.605321</td>\n",
              "      <td>0.077958</td>\n",
              "    </tr>\n",
              "    <tr>\n",
              "      <th>762449</th>\n",
              "      <td>2762450.0</td>\n",
              "      <td>0.299108</td>\n",
              "      <td>0.217956</td>\n",
              "    </tr>\n",
              "    <tr>\n",
              "      <th>249903</th>\n",
              "      <td>2249904.0</td>\n",
              "      <td>0.155915</td>\n",
              "      <td>0.078228</td>\n",
              "    </tr>\n",
              "    <tr>\n",
              "      <th>426175</th>\n",
              "      <td>2426176.0</td>\n",
              "      <td>0.371814</td>\n",
              "      <td>0.078263</td>\n",
              "    </tr>\n",
              "    <tr>\n",
              "      <th>228472</th>\n",
              "      <td>2228473.0</td>\n",
              "      <td>0.374945</td>\n",
              "      <td>0.075222</td>\n",
              "    </tr>\n",
              "  </tbody>\n",
              "</table>\n",
              "</div>\n",
              "      <button class=\"colab-df-convert\" onclick=\"convertToInteractive('df-1ae62aa9-6a34-4112-94c5-d577cc774164')\"\n",
              "              title=\"Convert this dataframe to an interactive table.\"\n",
              "              style=\"display:none;\">\n",
              "        \n",
              "  <svg xmlns=\"http://www.w3.org/2000/svg\" height=\"24px\"viewBox=\"0 0 24 24\"\n",
              "       width=\"24px\">\n",
              "    <path d=\"M0 0h24v24H0V0z\" fill=\"none\"/>\n",
              "    <path d=\"M18.56 5.44l.94 2.06.94-2.06 2.06-.94-2.06-.94-.94-2.06-.94 2.06-2.06.94zm-11 1L8.5 8.5l.94-2.06 2.06-.94-2.06-.94L8.5 2.5l-.94 2.06-2.06.94zm10 10l.94 2.06.94-2.06 2.06-.94-2.06-.94-.94-2.06-.94 2.06-2.06.94z\"/><path d=\"M17.41 7.96l-1.37-1.37c-.4-.4-.92-.59-1.43-.59-.52 0-1.04.2-1.43.59L10.3 9.45l-7.72 7.72c-.78.78-.78 2.05 0 2.83L4 21.41c.39.39.9.59 1.41.59.51 0 1.02-.2 1.41-.59l7.78-7.78 2.81-2.81c.8-.78.8-2.07 0-2.86zM5.41 20L4 18.59l7.72-7.72 1.47 1.35L5.41 20z\"/>\n",
              "  </svg>\n",
              "      </button>\n",
              "      \n",
              "  <style>\n",
              "    .colab-df-container {\n",
              "      display:flex;\n",
              "      flex-wrap:wrap;\n",
              "      gap: 12px;\n",
              "    }\n",
              "\n",
              "    .colab-df-convert {\n",
              "      background-color: #E8F0FE;\n",
              "      border: none;\n",
              "      border-radius: 50%;\n",
              "      cursor: pointer;\n",
              "      display: none;\n",
              "      fill: #1967D2;\n",
              "      height: 32px;\n",
              "      padding: 0 0 0 0;\n",
              "      width: 32px;\n",
              "    }\n",
              "\n",
              "    .colab-df-convert:hover {\n",
              "      background-color: #E2EBFA;\n",
              "      box-shadow: 0px 1px 2px rgba(60, 64, 67, 0.3), 0px 1px 3px 1px rgba(60, 64, 67, 0.15);\n",
              "      fill: #174EA6;\n",
              "    }\n",
              "\n",
              "    [theme=dark] .colab-df-convert {\n",
              "      background-color: #3B4455;\n",
              "      fill: #D2E3FC;\n",
              "    }\n",
              "\n",
              "    [theme=dark] .colab-df-convert:hover {\n",
              "      background-color: #434B5C;\n",
              "      box-shadow: 0px 1px 3px 1px rgba(0, 0, 0, 0.15);\n",
              "      filter: drop-shadow(0px 1px 2px rgba(0, 0, 0, 0.3));\n",
              "      fill: #FFFFFF;\n",
              "    }\n",
              "  </style>\n",
              "\n",
              "      <script>\n",
              "        const buttonEl =\n",
              "          document.querySelector('#df-1ae62aa9-6a34-4112-94c5-d577cc774164 button.colab-df-convert');\n",
              "        buttonEl.style.display =\n",
              "          google.colab.kernel.accessAllowed ? 'block' : 'none';\n",
              "\n",
              "        async function convertToInteractive(key) {\n",
              "          const element = document.querySelector('#df-1ae62aa9-6a34-4112-94c5-d577cc774164');\n",
              "          const dataTable =\n",
              "            await google.colab.kernel.invokeFunction('convertToInteractive',\n",
              "                                                     [key], {});\n",
              "          if (!dataTable) return;\n",
              "\n",
              "          const docLinkHtml = 'Like what you see? Visit the ' +\n",
              "            '<a target=\"_blank\" href=https://colab.research.google.com/notebooks/data_table.ipynb>data table notebook</a>'\n",
              "            + ' to learn more about interactive tables.';\n",
              "          element.innerHTML = '';\n",
              "          dataTable['output_type'] = 'display_data';\n",
              "          await google.colab.output.renderOutput(dataTable, element);\n",
              "          const docLink = document.createElement('div');\n",
              "          docLink.innerHTML = docLinkHtml;\n",
              "          element.appendChild(docLink);\n",
              "        }\n",
              "      </script>\n",
              "    </div>\n",
              "  </div>\n",
              "  "
            ]
          },
          "metadata": {},
          "execution_count": 36
        }
      ],
      "source": [
        "result_Prob = pd.merge(scoring_data_contact, scoring_data_nocontact, on=[\"ID\"],how=\"right\")\n",
        "result_Prob.sort_values(by=['ID'], inplace=True)\n",
        "result_Prob.sample(10)"
      ]
    },
    {
      "cell_type": "markdown",
      "id": "f09bf90d",
      "metadata": {
        "id": "f09bf90d"
      },
      "source": [
        "## Exporting Results to a CSV File"
      ]
    },
    {
      "cell_type": "code",
      "execution_count": null,
      "id": "606bf0a9",
      "metadata": {
        "id": "606bf0a9"
      },
      "outputs": [],
      "source": [
        "result_Prob.to_csv('Round2_Output_prob.csv', index=False)"
      ]
    },
    {
      "cell_type": "code",
      "execution_count": null,
      "id": "d9741c47-e3ba-4c76-9ddc-f1a6ee545677",
      "metadata": {
        "id": "d9741c47-e3ba-4c76-9ddc-f1a6ee545677"
      },
      "outputs": [],
      "source": [
        "import pandas as pd\n",
        "\n",
        "NB = 190000\n",
        "\n",
        "probabilities = pd.read_csv(\"Round2_Output_prob.csv\")\n",
        "amounts = pd.read_csv(\"Round2_Output_amt.csv\")\n",
        "\n",
        "def Calc_Uplift(raw_data):\n",
        "    return ((raw_data['AmtContact']*raw_data['ProbContact']) - (raw_data['AmtNoContact']*raw_data['ProbNoContact']))\n",
        "\n",
        "raw_submission = pd.merge(probabilities, amounts, on=[\"ID\"], how=\"right\")\n",
        "raw_submission[\"Uplift\"] = raw_submission.apply(lambda row: Calc_Uplift(row), axis=1)\n",
        "\n",
        "# Sorting data by descending Uplift value\n",
        "raw_submission.sort_values(by=['Uplift'], ascending=False, inplace=True)\n"
      ]
    },
    {
      "cell_type": "code",
      "execution_count": null,
      "id": "4d5cbccf",
      "metadata": {
        "id": "4d5cbccf"
      },
      "outputs": [],
      "source": [
        "# Export the final csv file\n",
        "\n",
        "submission = raw_submission.head(NB)\n",
        "\n",
        "submission.to_csv('Round2 Output final.csv', index=False)\n"
      ]
    },
    {
      "cell_type": "code",
      "execution_count": null,
      "id": "25a62862-9ecb-4331-b934-fd7caaf858c4",
      "metadata": {
        "id": "25a62862-9ecb-4331-b934-fd7caaf858c4"
      },
      "outputs": [],
      "source": [
        "# Congratulations! You are now done with Round 2. You are ready to prepare your solution to upload it to the leaderboard."
      ]
    },
    {
      "cell_type": "code",
      "execution_count": null,
      "id": "74e84743",
      "metadata": {
        "collapsed": true,
        "id": "74e84743"
      },
      "outputs": [],
      "source": [
        "# Reminder: Please note that you need only one column (the list of donors' IDs) to submit to the leaderboard."
      ]
    },
    {
      "cell_type": "code",
      "source": [
        "!head Round2\\ Output\\ final.csv"
      ],
      "metadata": {
        "colab": {
          "base_uri": "https://localhost:8080/"
        },
        "id": "VlW44HSYBvxK",
        "outputId": "042dbad8-033d-4e80-ca18-2458b9856158"
      },
      "id": "VlW44HSYBvxK",
      "execution_count": null,
      "outputs": [
        {
          "output_type": "stream",
          "name": "stdout",
          "text": [
            "ID,ProbContact,ProbNoContact,AmtContact,AmtNoContact,Uplift\n",
            "2382554.0,0.4878195069781749,0.1520695725744034,666.0156098633496,682.6639574388792,221.08299022362658\n",
            "2971910.0,0.7408558870481425,0.2873722982607028,403.3062992892364,412.3412736634468,180.29638663162078\n",
            "2739779.0,0.7244674065103919,0.2902512914345586,417.3600122736189,426.7098216427207,178.51064887340416\n",
            "2773314.0,0.7226521041012597,0.2872615134195074,396.7428718412234,412.0130232425264,168.3515865180417\n",
            "2203286.0,0.7541313348236294,0.2697491744362641,341.6849039760693,360.1324710233588,160.52985597831392\n",
            "2598022.0,0.7439664952336286,0.2698850564735739,324.0703139490998,336.2758899750128,150.34161812136583\n",
            "2171960.0,0.7457784724635689,0.1717434893807954,272.61700316164405,322.61479141472824,147.9049021820639\n",
            "2092071.0,0.7438716517049679,0.1703210533922673,272.61700316164405,322.61479141472824,147.84396931102754\n",
            "2583996.0,0.7438716517049679,0.1703210533922673,272.61700316164405,322.61479141472824,147.84396931102754\n"
          ]
        }
      ]
    }
  ],
  "metadata": {
    "kernelspec": {
      "display_name": "Python 3",
      "language": "python",
      "name": "python3"
    },
    "language_info": {
      "codemirror_mode": {
        "name": "ipython",
        "version": 3
      },
      "file_extension": ".py",
      "mimetype": "text/x-python",
      "name": "python",
      "nbconvert_exporter": "python",
      "pygments_lexer": "ipython3",
      "version": "3.8.8"
    },
    "colab": {
      "provenance": [],
      "collapsed_sections": [
        "bb730ee9",
        "6aaee9cc-8511-41a8-b0ab-a882d405d88a"
      ]
    }
  },
  "nbformat": 4,
  "nbformat_minor": 5
}